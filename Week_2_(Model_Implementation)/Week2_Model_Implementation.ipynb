{
 "cells": [
  {
   "cell_type": "code",
   "execution_count": 1,
   "id": "35174028",
   "metadata": {},
   "outputs": [
    {
     "name": "stdout",
     "output_type": "stream",
     "text": [
      "Linear Regression Performance:\n",
      "MAE: 65.43, RMSE: 88.65\n",
      "Random Forest Performance:\n",
      "MAE: 67.62, RMSE: 91.96\n",
      "Best model saved to saved_model/pollution_predictor.pkl.\n"
     ]
    }
   ],
   "source": [
    "# Week 2 - Model Implementation\n",
    "\n",
    "# ## Goal\n",
    "# Train models to predict PM2.5 from weather features.\n",
    "# Load cleaned data from Week 1 and save the best model for deployment in Week 3.\n",
    "\n",
    "import pandas as pd\n",
    "from sklearn.linear_model import LinearRegression\n",
    "from sklearn.ensemble import RandomForestRegressor\n",
    "from sklearn.metrics import mean_absolute_error, mean_squared_error\n",
    "from sklearn.preprocessing import StandardScaler\n",
    "from sklearn.pipeline import Pipeline\n",
    "from sklearn.model_selection import train_test_split\n",
    "import joblib\n",
    "import os\n",
    "\n",
    "# ### Load Clean Data\n",
    "data_path = '../Week_1_(Dataset_Preparation)/data/clean_pollution_data.csv'\n",
    "\n",
    "if not os.path.exists(data_path):\n",
    "    print(\"Cleaned dataset not found. Please ensure Week 1 output exists at the expected path.\")\n",
    "else:\n",
    "    df = pd.read_csv(data_path)\n",
    "    # Use correct column names from df\n",
    "    X = df[['TEMP', 'hour', 'month']]\n",
    "    y = df['pm2.5']\n",
    "\n",
    "    # ### Train/Test Split\n",
    "    X_train, X_test, y_train, y_test = train_test_split(X, y, test_size=0.2, random_state=42)\n",
    "\n",
    "    # ### Modeling Pipelines\n",
    "    lr_pipe = Pipeline([\n",
    "        ('scaler', StandardScaler()),\n",
    "        ('lr', LinearRegression())\n",
    "    ])\n",
    "    rf_pipe = Pipeline([\n",
    "        ('scaler', StandardScaler()),\n",
    "        ('rf', RandomForestRegressor(random_state=42))\n",
    "    ])\n",
    "\n",
    "    # ### Train Models\n",
    "    lr_pipe.fit(X_train, y_train)\n",
    "    rf_pipe.fit(X_train, y_train)\n",
    "\n",
    "    # ### Evaluation\n",
    "    import numpy as np\n",
    "    def eval(model, X_test, y_test):\n",
    "        preds = model.predict(X_test)\n",
    "        mae = mean_absolute_error(y_test, preds)\n",
    "        mse = mean_squared_error(y_test, preds)\n",
    "        rmse = np.sqrt(mse)\n",
    "        print(f\"MAE: {mae:.2f}, RMSE: {rmse:.2f}\")\n",
    "        return mae, rmse\n",
    "\n",
    "    print(\"Linear Regression Performance:\")\n",
    "    eval(lr_pipe, X_test, y_test)\n",
    "\n",
    "    print(\"Random Forest Performance:\")\n",
    "    eval(rf_pipe, X_test, y_test)\n",
    "\n",
    "    # ### Save Best Model\n",
    "    model_path = 'saved_model/pollution_predictor.pkl'\n",
    "    os.makedirs(os.path.dirname(model_path), exist_ok=True)\n",
    "    joblib.dump(rf_pipe, model_path)\n",
    "    print(f\"Best model saved to {model_path}.\")"
   ]
  }
 ],
 "metadata": {
  "kernelspec": {
   "display_name": "Python 3",
   "language": "python",
   "name": "python3"
  },
  "language_info": {
   "codemirror_mode": {
    "name": "ipython",
    "version": 3
   },
   "file_extension": ".py",
   "mimetype": "text/x-python",
   "name": "python",
   "nbconvert_exporter": "python",
   "pygments_lexer": "ipython3",
   "version": "3.13.3"
  }
 },
 "nbformat": 4,
 "nbformat_minor": 5
}
